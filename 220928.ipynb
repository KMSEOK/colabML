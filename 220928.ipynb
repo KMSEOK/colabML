{
  "nbformat": 4,
  "nbformat_minor": 0,
  "metadata": {
    "colab": {
      "provenance": [],
      "collapsed_sections": [],
      "include_colab_link": true
    },
    "kernelspec": {
      "name": "python3",
      "display_name": "Python 3"
    },
    "language_info": {
      "name": "python"
    }
  },
  "cells": [
    {
      "cell_type": "markdown",
      "metadata": {
        "id": "view-in-github",
        "colab_type": "text"
      },
      "source": [
        "<a href=\"https://colab.research.google.com/github/KMSEOK/colabML/blob/minseok/220928.ipynb\" target=\"_parent\"><img src=\"https://colab.research.google.com/assets/colab-badge.svg\" alt=\"Open In Colab\"/></a>"
      ]
    },
    {
      "cell_type": "code",
      "execution_count": 3,
      "metadata": {
        "colab": {
          "base_uri": "https://localhost:8080/"
        },
        "id": "PCS21UEtwSdE",
        "outputId": "d999a49c-aa4b-4b83-f1fb-947b59b882bb"
      },
      "outputs": [
        {
          "output_type": "stream",
          "name": "stdout",
          "text": [
            "49995779.95941141\n",
            "소요시간은  19.246618032455444 초입니다.\n"
          ]
        }
      ],
      "source": [
        "import time\n",
        "import random\n",
        "\n",
        "start=time.time()\n",
        "sum=0\n",
        "for i in range(1,100000000):\n",
        "    sum += random.random()\n",
        "\n",
        "end = time.time()\n",
        "\n",
        "print(sum)\n",
        "print('소요시간은 ', end-start, '초입니다.')"
      ]
    },
    {
      "cell_type": "code",
      "source": [
        "!pip install gtts playsound"
      ],
      "metadata": {
        "colab": {
          "base_uri": "https://localhost:8080/"
        },
        "id": "CUZw2Pl3xe5_",
        "outputId": "eeeec7b6-b910-493b-a414-0133bde6e76c"
      },
      "execution_count": 2,
      "outputs": [
        {
          "output_type": "stream",
          "name": "stdout",
          "text": [
            "Looking in indexes: https://pypi.org/simple, https://us-python.pkg.dev/colab-wheels/public/simple/\n",
            "Collecting gtts\n",
            "  Downloading gTTS-2.2.4-py3-none-any.whl (26 kB)\n",
            "Collecting playsound\n",
            "  Downloading playsound-1.3.0.tar.gz (7.7 kB)\n",
            "Requirement already satisfied: requests in /usr/local/lib/python3.7/dist-packages (from gtts) (2.23.0)\n",
            "Requirement already satisfied: six in /usr/local/lib/python3.7/dist-packages (from gtts) (1.15.0)\n",
            "Requirement already satisfied: click in /usr/local/lib/python3.7/dist-packages (from gtts) (7.1.2)\n",
            "Requirement already satisfied: certifi>=2017.4.17 in /usr/local/lib/python3.7/dist-packages (from requests->gtts) (2022.6.15)\n",
            "Requirement already satisfied: urllib3!=1.25.0,!=1.25.1,<1.26,>=1.21.1 in /usr/local/lib/python3.7/dist-packages (from requests->gtts) (1.24.3)\n",
            "Requirement already satisfied: chardet<4,>=3.0.2 in /usr/local/lib/python3.7/dist-packages (from requests->gtts) (3.0.4)\n",
            "Requirement already satisfied: idna<3,>=2.5 in /usr/local/lib/python3.7/dist-packages (from requests->gtts) (2.10)\n",
            "Building wheels for collected packages: playsound\n",
            "  Building wheel for playsound (setup.py) ... \u001b[?25l\u001b[?25hdone\n",
            "  Created wheel for playsound: filename=playsound-1.3.0-py3-none-any.whl size=7035 sha256=c57b28cfb8cd62d17dbb18e52ae6b0de647f470463639162b636317fcf156c95\n",
            "  Stored in directory: /root/.cache/pip/wheels/ba/f8/bb/ea57c0146b664dca3a0ada4199b0ecb5f9dfcb7b7e22b65ba2\n",
            "Successfully built playsound\n",
            "Installing collected packages: playsound, gtts\n",
            "Successfully installed gtts-2.2.4 playsound-1.3.0\n"
          ]
        }
      ]
    },
    {
      "cell_type": "code",
      "source": [
        "from datetime import datetime\n",
        "\n",
        "# 경기 결과 입력 받는 곳\n",
        "place=input(\"경기가 열린 곳은? \")\n",
        "time=input(\"경기가 열린 시간은? \")\n",
        "opponent=input(\"상대 팀은? \")\n",
        "goals=input(\"손흥민은 몇 골을 넣었나요? \")\n",
        "aids=input(\"도움은 몇 개인가요? \")\n",
        "score_me=input(\"손흥민 팀이 넣은 골 수는? \")\n",
        "score_you=input(\"상대 팀이 넣은 골 수는? \")\n",
        "\n",
        "# 기사 작성하는 곳\n",
        "nowtime = datetime.now()\n",
        "news=\"[프리미어 리그 속보 \"+nowtime.strftime(\"%Y년%m월%d일%H시%M분]\\n\")\n",
        "news=news+\"손흥민 선수는 \"+place+\"에서 \"+time+\"에 열린 경기에 출전하였습니다. \"\n",
        "news=news+\"상대 팀은 \"+opponent+\"입니다. \"\n",
        "if score_me>score_you:\n",
        "    news=news+\"손흥민 선수의 팀이 \"+score_me+\"골을 넣어 \"+score_you+\"골을 넣은 상대 팀을 이겼습니다. \"\n",
        "elif score_me<score_you:\n",
        "    news=news+\"손흥민 선수의 팀이 \"+score_me+\"골을 넣어 \"+score_you+\"골을 넣은 상대 팀에게 졌습니다. \"\n",
        "else:\n",
        "    news=news+\"두 팀은 \"+score_me+\"대\"+score_you+\"로 비겼습니다. \"\n",
        "\n",
        "if int(goals)>0 and int(aids)>0:\n",
        "    news=news+\"손흥민 선수는 \"+goals+\"골에 도움 \"+aids+\"개로 승리를 크게 이끌었습니다. \"\n",
        "elif int(goals)>0 and int(aids)==0:\n",
        "    news=news+\"손흥민 선수는 \"+goals+\"골로 승리를 이끌었습니다. \"\n",
        "elif int(goals)==0 and int(aids)>0:\n",
        "    news=news+\"손흥민 선수는 골은 없지만 도움 \"+aids+\"개로 승리하는 데 공헌하였습니다. \"\n",
        "else:\n",
        "    news=news+\"아쉽게도 이번 경기에서 손홍민의 발끝은 침묵을 지켰습니다. \"\n",
        "print(news)\n",
        "\n",
        "# 음성으로 들려주는 곳\n",
        "\n",
        "from gtts import gTTS\n",
        "import playsound\n",
        "\n",
        "tts=gTTS(text=news,lang='ko') # 문자열 news를 위한 한국어 음성 합성\n",
        "tts.save(\"/content/news_Son.mp3\")"
      ],
      "metadata": {
        "colab": {
          "base_uri": "https://localhost:8080/"
        },
        "id": "c6__D_zLxbku",
        "outputId": "58db6769-0a15-4964-8202-99f3cfb4b059"
      },
      "execution_count": 4,
      "outputs": [
        {
          "name": "stdout",
          "output_type": "stream",
          "text": [
            "경기가 열린 곳은? 서울\n",
            "경기가 열린 시간은? 11시\n",
            "상대 팀은? 인천\n",
            "손흥민은 몇 골을 넣었나요? 4\n",
            "도움은 몇 개인가요? 2\n",
            "손흥민 팀이 넣은 골 수는? 4\n",
            "상대 팀이 넣은 골 수는? 1\n"
          ]
        },
        {
          "output_type": "stream",
          "name": "stderr",
          "text": [
            "WARNING:playsound:playsound is relying on another python subprocess. Please use `pip install pygobject` if you want playsound to run more efficiently.\n"
          ]
        },
        {
          "output_type": "stream",
          "name": "stdout",
          "text": [
            "[프리미어 리그 속보 2022년10월02일08시52분]\n",
            "손흥민 선수는 서울에서 11시에 열린 경기에 출전하였습니다. 상대 팀은 인천입니다. 손흥민 선수의 팀이 4골을 넣어 1골을 넣은 상대 팀을 이겼습니다. 손흥민 선수는 4골에 도움 2개로 승리를 크게 이끌었습니다. \n"
          ]
        }
      ]
    }
  ]
}